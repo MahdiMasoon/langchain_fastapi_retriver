{
 "cells": [
  {
   "cell_type": "code",
   "execution_count": 1,
   "metadata": {
    "ExecuteTime": {
     "end_time": "2024-09-23T17:28:25.683225100Z",
     "start_time": "2024-09-23T17:28:25.543185100Z"
    },
    "collapsed": false,
    "id": "OoCZ9YexVhpW",
    "jupyter": {
     "outputs_hidden": false
    }
   },
   "outputs": [],
   "source": [
    "import time\n",
    "\n",
    "from selenium import webdriver\n",
    "from selenium.webdriver.chrome.options import Options\n",
    "from selenium.webdriver.chrome.service import Service\n",
    "\n",
    "from bs4 import BeautifulSoup\n",
    "import markdownify\n",
    "from markdownify import MarkdownConverter\n",
    "import regex as re\n",
    "from os import listdir\n",
    "from os.path import isfile, join\n",
    "from IPython.display import display, Markdown\n",
    "\n",
    "import pandas as pd"
   ]
  },
  {
   "cell_type": "code",
   "execution_count": 2,
   "metadata": {
    "ExecuteTime": {
     "end_time": "2024-09-23T17:26:18.097339100Z",
     "start_time": "2024-09-23T17:26:18.024123Z"
    },
    "collapsed": false,
    "id": "FVoHsuPDVhpX",
    "jupyter": {
     "outputs_hidden": false
    }
   },
   "outputs": [],
   "source": [
    "# Set path Selenium\n",
    "CHROMEDRIVER_PATH = '/usr/local/bin/chromedriver'\n",
    "s = Service(CHROMEDRIVER_PATH)\n",
    "\n",
    "# Options\n",
    "chrome_options = Options()\n",
    "chrome_options.add_argument('--ignore-certificate-errors')\n",
    "chrome_options.add_argument(\"--disable-blink-features=AutomationControlled\")\n",
    "chrome_options.add_experimental_option(\"excludeSwitches\", [\"enable-automation\"])\n",
    "chrome_options.add_experimental_option(\"useAutomationExtension\", False)\n",
    "chrome_options.add_argument(\"--headless\")\n",
    "chrome_options.add_argument('--no-sandbox')\n",
    "\n",
    "driver = webdriver.Chrome(service=s, options=chrome_options)"
   ]
  },
  {
   "cell_type": "code",
   "execution_count": 3,
   "metadata": {
    "collapsed": false,
    "id": "f_Da--NpVhpX",
    "jupyter": {
     "outputs_hidden": false
    }
   },
   "outputs": [],
   "source": [
    "driver.get(\"https://qavanin.ir/\")\n",
    "time.sleep(2)\n",
    "page_source = driver.page_source"
   ]
  },
  {
   "cell_type": "code",
   "execution_count": 4,
   "metadata": {
    "id": "M2_7uR8jVhpY",
    "outputId": "53763b7b-4432-4a57-fd27-c99503eae49e"
   },
   "outputs": [
    {
     "data": {
      "text/plain": [
       "''"
      ]
     },
     "execution_count": 4,
     "metadata": {},
     "output_type": "execute_result"
    }
   ],
   "source": [
    "driver.title"
   ]
  },
  {
   "cell_type": "code",
   "execution_count": 5,
   "metadata": {
    "id": "hQSPwRnXVhpY",
    "scrolled": true
   },
   "outputs": [],
   "source": [
    "files = [f for f in listdir('pages') if isfile(join('pages', f))]\n",
    "\n",
    "for f in files:\n",
    "\n",
    "    with open(join('pages/', f), \"rb\") as file:\n",
    "        html_doc = file.read()\n",
    "\n",
    "    soup = BeautifulSoup(html_doc, \"lxml\")\n",
    "\n",
    "    md_text = MarkdownConverter().convert_soup(soup.find('div', {'id': 'treeText'})).replace('&nbsp;', ' ').replace('\\xa0', ' ')\n",
    "    md_text = re.sub(r'\\n+\\s+\\n*', '<br/>', md_text)\n",
    "    with open(join('pages/mds/', f.split('.')[0]+'.md'), \"w\") as file:\n",
    "        file.write(md_text)"
   ]
  },
  {
   "cell_type": "code",
   "execution_count": 7,
   "metadata": {
    "id": "ifsNwWwMVhpZ"
   },
   "outputs": [],
   "source": [
    "from langchain.docstore.document import Document\n",
    "from langchain_text_splitters.character import RecursiveCharacterTextSplitter\n",
    "from langchain.retrievers import ParentDocumentRetriever\n",
    "from langchain_chroma import Chroma\n",
    "from langchain_huggingface.embeddings import HuggingFaceEmbeddings\n",
    "from langchain_community.retrievers import TFIDFRetriever\n",
    "from langchain.storage import InMemoryStore"
   ]
  },
  {
   "cell_type": "code",
   "execution_count": 8,
   "metadata": {
    "id": "ILPCg8ZGVhpZ"
   },
   "outputs": [],
   "source": [
    "docs = []\n",
    "\n",
    "files = [f for f in listdir('pages/mds') if isfile(join('pages/mds', f))]\n",
    "for f in files:\n",
    "\n",
    "    with open(join('pages/mds', f), \"rb\") as file:\n",
    "        docs.append(Document(file.read(), metadata={\"id\": f.split('.')[0]}))"
   ]
  },
  {
   "cell_type": "code",
   "execution_count": 10,
   "metadata": {},
   "outputs": [
    {
     "data": {
      "text/markdown": [
       "<br/>**شماره: 34562 /ھ ب**<br/>**تاريخ:** **1403/6/24**<br/>**جناب آقاي دكتر پزشكيان**<br/>**رئيس محترم جمهوري اسلامي ايران**<br/>سلام عليكم؛<br/>بازگشت به رونوشت تصويب نامه هيأت محترم وزيران به شماره 65514 /ت61031ھ مورخ 1403/04/23، موضوع: **«مجوز واردات خودرو توسط وزارت راه و شهرسازي»،** متعاقب بررسي ها و اعلام نظر مقدماتي **«هيأت بررسي و تطبيق مصّوبات دولت با قوانين»** و مستنداً به صدر ماده واحده و تبصره (4\\) الحاقي به «قانون نحوه اجراء اصول هشتاد و پنجم (85\\) و يكصد و سي و هشتم (138\\) قانون اساسي جمهوري اسلامي ايران و اصلاحات بعدي» و ماده (10\\) آيين نامه اجرايي آن، مراتب متضمّن اعلام نظر قطعي جهت اقدام لازم در مهلت مقرر قانوني واعلام نتيجه به اين جانب ابلاغ مي گردد. بديهي است پس از انقضاي يك هفته مهلت مقرر در قانون، آن بخش از مصوبه كه مورد ايراد قرار گرفته است، ملغي الاثر خواهد بود.<br/>«**اولاً** – علاوه بر بند «ز» تبصره (20\\) قانون بودجه سال 1402 كل كشور، ماده (1\\) قانون محاسبات عمومي كشور – مصوب 1366\\- نيز بر سالانه بودن احكام قانون بودجه تأكيد مي ورزد، **ثانياً\\-** در تبصره بند «الف» ماده (30\\) قانون تنظيم بخشي از مقررات مالي دولت – مصوب 1380 – كليه دستگاه هاي اجرايي به استثناي نمايندگي هاي جمهوري اسلامي ايران در خارج از كشور و نيروي انتظامي جمهوري اسلامي ايران از خريد خودروي سواري خارجي منع شده اند، بنابراين، متن مصوبه كه در اجراي جزء «2» بند «و» تبصره (6\\) قانون بودجه سال 1402 كل كشور، ‌مجوز واردات (200\\) دستگاه خودرو سوراي كمك دار توسط سازمان راهداري و حمل و نقل جاده اي را اعطاء كرده است، از حيث فقدان مجوز قانوني و استناد به قانون منقضي شده،‌ مغاير قانون است.»<br/>**محمدباقر قاليباف**<br/>**رونوشت:**<br/>**\\- رياست محترم دفتر مقام معظم رهبري، جهت اطلاع.** <br/>**\\- رياست محترم قوه قضائيه، با عنايت به اصل يكصد و هفتادم (170\\) قانون اساسي جمهوري اسلامي ايران، جهت اطلاع**<br/>**\\- معاونت محترم قوانين مجلس شوراي اسلامي، جهت اطلاع.**<br/>**\\- معاونت محترم نظارت مجلس شوراي اسلامي، جهت اطلاع.** <br/>**\\- معاونت محترم حقوقي رييس جمهور، جهت اطلاع.** <br/>**\\- معاونت محترم امور مجلس رييس جمهور، جهت اطلاع.** <br/>**\\- وزراي محترم صنعت،‌معدن و تجارت و كشور،‌ جهت اطلاع.** <br/>**\\- روساي محترم كميسيونهاي 15 گانه مجلس شوراي اسلامي، جهت اطلاع.** <br/>**\\-** **رياست محترم كميسيون اصل نودم (90\\)** **قانون اساسي در اجراي ماده (44\\)** **آيين نامه داخلي مجلس شوراي اسلامي، جهت اطلاع.**<br/>**\\-** **رياست محترم ديوان محاسبات كشور، جهت اطلاع.**<br/>**\\-** **رياست محترم سازمان بازرسي كل كشور، جهت اطلاع.**<br/>**\\-** **رياست محترم ديوان عدالت اداري، با عنايت به اصل يكصد و هفتادم (170\\)** **قانون اساسي و ماده واحده اصلاح قانون نحوه اجراي اصول هشتاد و پنجم (85\\)** **و يكصد و سي و هشتم (138\\)** **قانون اساسي جمهوري اسلامي ايران، در رابطه با مسئوليت هاي رئيس مجلس شوراي اسلامي، \\-** **مصوب** **1388/01/30\\-** **جهت اطلاع.**<br/>**\\-** **مديرعامل محترم روزنامه رسمي وفق ماده (1\\)** **قانون مدني و تبصره ذيل آن، جهت انتشار در روزنامه رسمي.** <br/>**\\-** **دفتر هيأت بررسي و تطبيق مصوبات دولت با قوانين، جهت اطلاع و پيگيري، اخذ و ارائه گزارش در مهلت مقرر در تبصره (4\\)** **الحاقي به قانون نحوه اجراي اصول هشتاد و پنجم (85\\)** **و يكصد و سي و هشتم (138\\)** **قانون اساسي جمهوري اسلامي ايران و درج در سابقه** **30347.** <br/>"
      ],
      "text/plain": [
       "<IPython.core.display.Markdown object>"
      ]
     },
     "metadata": {},
     "output_type": "display_data"
    }
   ],
   "source": [
    "display(Markdown(docs[1].page_content))"
   ]
  },
  {
   "cell_type": "code",
   "execution_count": 147,
   "metadata": {
    "id": "zdnG59dCVhpa"
   },
   "outputs": [],
   "source": [
    "parent_separators=[\n",
    "    \"<br/>\",\n",
    "    \".\"\n",
    "]\n",
    "\n",
    "child_separators=[\n",
    "    \"<br/>\",\n",
    "    \".\",\n",
    "    \" \"\n",
    "]\n",
    "\n",
    "# This text splitter is used to create the parent documents\n",
    "parent_splitter = RecursiveCharacterTextSplitter(\n",
    "    separators=parent_separators,\n",
    "    chunk_size=512,\n",
    "    chunk_overlap=128,\n",
    "    length_function=len,\n",
    "    is_separator_regex=False,\n",
    ")\n",
    "\n",
    "# This text splitter is used to create the child documents\n",
    "child_splitter = RecursiveCharacterTextSplitter(\n",
    "    separators=child_separators,\n",
    "    chunk_size=128,\n",
    "    chunk_overlap=16,\n",
    "    length_function=len,\n",
    "    is_separator_regex=False,\n",
    ")"
   ]
  },
  {
   "cell_type": "code",
   "execution_count": 155,
   "metadata": {
    "colab": {
     "base_uri": "https://localhost:8080/"
    },
    "id": "h6zDCy2LYQk-",
    "outputId": "ff77672f-5b61-454f-c5bc-d0338eca29a2"
   },
   "outputs": [
    {
     "name": "stderr",
     "output_type": "stream",
     "text": [
      "/usr/local/lib/python3.10/dist-packages/transformers/tokenization_utils_base.py:1601: FutureWarning: `clean_up_tokenization_spaces` was not set. It will be set to `True` by default. This behavior will be depracted in transformers v4.45, and will be then set to `False` by default. For more details check this issue: https://github.com/huggingface/transformers/issues/31884\n",
      "  warnings.warn(\n"
     ]
    }
   ],
   "source": [
    "embedding_model = HuggingFaceEmbeddings(\n",
    "    model_name='paraphrase-multilingual-mpnet-base-v2',\n",
    "    encode_kwargs={\"normalize_embeddings\": True},  # Set `True` for cosine similarity\n",
    ")"
   ]
  },
  {
   "cell_type": "code",
   "execution_count": 156,
   "metadata": {
    "id": "hlVJx5jZVhpa"
   },
   "outputs": [],
   "source": [
    "# The vectorstore to use to index the child chunks\n",
    "vectorstore = Chroma(\n",
    "    collection_name=\"split_parents\", embedding_function=embedding_model\n",
    ")\n",
    "# The storage layer for the parent documents\n",
    "store = InMemoryStore()"
   ]
  },
  {
   "cell_type": "code",
   "execution_count": 157,
   "metadata": {
    "id": "i5vdfg_UVhpa"
   },
   "outputs": [],
   "source": [
    "retriever = ParentDocumentRetriever(\n",
    "    vectorstore=vectorstore,\n",
    "    docstore=store,\n",
    "    child_splitter=child_splitter,\n",
    "    parent_splitter=parent_splitter,\n",
    ")"
   ]
  },
  {
   "cell_type": "code",
   "execution_count": 158,
   "metadata": {
    "id": "rE2umBRCVhpa"
   },
   "outputs": [],
   "source": [
    "retriever.add_documents(docs)"
   ]
  },
  {
   "cell_type": "code",
   "execution_count": 167,
   "metadata": {
    "id": "H6cpv_-3Ynl4"
   },
   "outputs": [],
   "source": [
    "retrieved_docs = retriever.invoke(\"اقتصاد\")"
   ]
  },
  {
   "cell_type": "code",
   "execution_count": 169,
   "metadata": {
    "colab": {
     "base_uri": "https://localhost:8080/",
     "height": 278
    },
    "id": "OELO0cytYw0q",
    "outputId": "09f68b04-f5f2-466c-9b7c-b50fc3d1762d"
   },
   "outputs": [
    {
     "data": {
      "text/markdown": [
       "<br/>سفر وزير امور اقتصادي و دارايي به كشور ازبكستان با استفاده از هواپيماي اختصاصي  \n",
       "مصوب 1403,06,25  \n",
       "با اصلاحات و الحاقات بعدي  <br/>هيئت وزيران در جلسه 1403/6/25 به پيشنهاد وزارت امور اقتصادي و دارايي و به استناد ماده (31\\) قانون تنظيم بخشي از مقررات مالي دولت مصوب 1380 تصويب كرد: <br/>1 – مسافرت وزير امور اقتصادي و دارايي به كشور ازبكستان با استفاده از هواپيماي اختصاصي مطابق برنامه زمان بندي شده انجام شود. <br/>2 – تصميم نامه شماره 92429/63081 مورخ 1403/6/21 لغو مي شود. <br/>محمدرضا عارف\n",
       "\n",
       "<br/>علاوه بر آن فيلم آموزشي در صفحه نخست سامانه فوق الاشاره در دسترس است و خانم ها رجائي، گرانمايه، محمدي، رشيدي با شماره تماس هاي: 39902773، 39903249، 39904299 آماده پاسخگويي به ابهامات مي باشند.   <br/>همچنين در صورت نياز به آموزش بيشتر دستگاه هاي استاني با اداره كل امور اقتصادي و دارايي استان و دستگاه ملي با اداره كل مديريت اموال و دارايي هاي دولت هماهنگ نمايند. <br/>سيدرحمت ا... اكرمي   <br/>خزانه دار كل كشور"
      ],
      "text/plain": [
       "<IPython.core.display.Markdown object>"
      ]
     },
     "metadata": {},
     "output_type": "display_data"
    }
   ],
   "source": [
    "display(Markdown('\\n\\n'.join([doc.page_content for doc in retrieved_docs])))"
   ]
  },
  {
   "cell_type": "code",
   "execution_count": null,
   "metadata": {
    "id": "oiUhhwuieqYT"
   },
   "outputs": [],
   "source": []
  }
 ],
 "metadata": {
  "colab": {
   "provenance": []
  },
  "kernelspec": {
   "display_name": "lfr_kernel",
   "language": "python",
   "name": "lfr_kernel"
  },
  "language_info": {
   "codemirror_mode": {
    "name": "ipython",
    "version": 3
   },
   "file_extension": ".py",
   "mimetype": "text/x-python",
   "name": "python",
   "nbconvert_exporter": "python",
   "pygments_lexer": "ipython3",
   "version": "3.10.12"
  }
 },
 "nbformat": 4,
 "nbformat_minor": 4
}
